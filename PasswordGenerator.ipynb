{
 "cells": [
  {
   "cell_type": "code",
   "execution_count": 2,
   "id": "735a9e31-4719-4379-946b-4e07a1dfcaaf",
   "metadata": {},
   "outputs": [
    {
     "ename": "SystemExit",
     "evalue": "0",
     "output_type": "error",
     "traceback": [
      "An exception has occurred, use %tb to see the full traceback.\n",
      "\u001b[1;31mSystemExit\u001b[0m\u001b[1;31m:\u001b[0m 0\n"
     ]
    },
    {
     "name": "stderr",
     "output_type": "stream",
     "text": [
      "C:\\Users\\Blade\\anaconda3\\Lib\\site-packages\\IPython\\core\\interactiveshell.py:3534: UserWarning: To exit: use 'exit', 'quit', or Ctrl-D.\n",
      "  warn(\"To exit: use 'exit', 'quit', or Ctrl-D.\", stacklevel=1)\n"
     ]
    }
   ],
   "source": [
    "import sys\n",
    "from PyQt5.QtWidgets import QApplication, QWidget, QVBoxLayout, QLabel, QLineEdit, QPushButton\n",
    "from PyQt5.QtGui import QFont, QKeyEvent\n",
    "from PyQt5.QtCore import Qt\n",
    "import random\n",
    "import string\n",
    "\n",
    "class PassGen(QWidget):\n",
    "    def __init__(self):\n",
    "        super().__init__()\n",
    "\n",
    "        self.init_ui()\n",
    "\n",
    "    def init_ui(self):\n",
    "        self.label = QLabel(\"Şifre uzunluğu için bir sayı girin:\", self)\n",
    "        self.length_input = QLineEdit(self)\n",
    "        self.generate_button = QPushButton(\"Şifre oluştur\",self)\n",
    "        self.result_label = QLabel(\"\", self)\n",
    "\n",
    "        vbox = QVBoxLayout()\n",
    "        vbox.setAlignment(Qt.AlignCenter)\n",
    "        vbox.addWidget(self.label)\n",
    "        vbox.addWidget(self.length_input)\n",
    "        vbox.addWidget(self.generate_button)\n",
    "        vbox.addWidget(self.result_label)\n",
    "\n",
    "        self.setStyleSheet(\"background-color: #f0f0f0;\")\n",
    "\n",
    "        font =QFont()\n",
    "        font.setPointSize(12)\n",
    "        self.label.setFont(font)\n",
    "        self.result_label.setFont(font)\n",
    "    \n",
    "        self.setGeometry(300, 300, 300, 200)\n",
    "        self.setWindowTitle(\"Şifre oluşturucu\")\n",
    "        self.setLayout(vbox)\n",
    "        self.show()\n",
    "\n",
    "    def gen_pass(self):\n",
    "        length_text = self.length_input.text()\n",
    "        if not length_text.isdigit() or int(length_text) <+ 0:\n",
    "            self.result_label.setText(\"Geçeriz uzunluk.\")\n",
    "            return\n",
    "\n",
    "        length = int(length_text)\n",
    "    \n",
    "        chr = string.ascii_letters + string.digits + string.punctuation\n",
    "        passw = \"\".join(random.choice(chr) for _ in range(length))\n",
    "\n",
    "        self.result_label.setText(f\"Oluşturulan şifre: {passw}\")\n",
    "\n",
    "    def keyPressEvent(self, event: QKeyEvent):\n",
    "        if event.key() == Qt.Key_Enter or event.key() == Qt.Key_Return:\n",
    "            self.gen_pass()\n",
    "\n",
    "if __name__ == '__main__':\n",
    "    app = QApplication(sys.argv)\n",
    "    ex = PassGen()\n",
    "    sys.exit(app.exec_())\n",
    "\n",
    "\n",
    "\n",
    "\n",
    "\n",
    "\n",
    "\n",
    "\n",
    "\n",
    "\n",
    "\n"
   ]
  },
  {
   "cell_type": "code",
   "execution_count": null,
   "id": "14bab4de-fe39-47ab-a702-bf01a9e110f4",
   "metadata": {},
   "outputs": [],
   "source": []
  }
 ],
 "metadata": {
  "kernelspec": {
   "display_name": "Python 3 (ipykernel)",
   "language": "python",
   "name": "python3"
  },
  "language_info": {
   "codemirror_mode": {
    "name": "ipython",
    "version": 3
   },
   "file_extension": ".py",
   "mimetype": "text/x-python",
   "name": "python",
   "nbconvert_exporter": "python",
   "pygments_lexer": "ipython3",
   "version": "3.11.5"
  }
 },
 "nbformat": 4,
 "nbformat_minor": 5
}
